{
 "cells": [
  {
   "cell_type": "markdown",
   "id": "d6e1aa4a-3246-45b9-9296-ae9fca929482",
   "metadata": {},
   "source": [
    "# Modelo 2 - Credit Fraud Otimização Bayseana com Subamostra de 10%"
   ]
  },
  {
   "cell_type": "code",
   "execution_count": 1,
   "id": "b8c65862-8614-4bb1-9db6-8a2ae94fa829",
   "metadata": {},
   "outputs": [],
   "source": [
    "import numpy as np, pandas as pd, os, gc, re, shap\n",
    "import matplotlib.pyplot as plt\n",
    "import seaborn as sns\n",
    "from typing import Tuple, Any\n",
    "from sklearn.ensemble import RandomForestClassifier, AdaBoostClassifier\n",
    "from xgboost import XGBClassifier\n",
    "from skopt import BayesSearchCV\n",
    "from sklearn.metrics import (roc_auc_score, precision_score, recall_score, f1_score, \n",
    "                             confusion_matrix, roc_curve, auc, precision_recall_curve)\n",
    "from sklearn.datasets import fetch_openml\n",
    "from sklearn.model_selection import train_test_split, GroupKFold\n",
    "from sklearn.preprocessing import OneHotEncoder, StandardScaler\n",
    "from sklearn.impute import SimpleImputer\n",
    "from imblearn.over_sampling import SMOTE\n",
    "from scipy.sparse import csr_matrix"
   ]
  },
  {
   "cell_type": "markdown",
   "id": "8be63c30-63fc-47cc-83dd-ee5d18474099",
   "metadata": {},
   "source": [
    "### Carregar os dados de transações e identidade\n",
    "### Excluímos as 219 colunas V que foram consideradas redundantes pela análise de correlação"
   ]
  },
  {
   "cell_type": "code",
   "execution_count": 2,
   "id": "03b405f9-fb12-4a13-bf9f-cf8fec8dc439",
   "metadata": {},
   "outputs": [],
   "source": [
    "# COLUMNS WITH STRINGS\n",
    "str_type = ['ProductCD', 'card4', 'card6', 'P_emaildomain', 'R_emaildomain','M1', 'M2', 'M3', 'M4','M5',\n",
    "            'M6', 'M7', 'M8', 'M9', 'id_12', 'id_15', 'id_16', 'id_23', 'id_27', 'id_28', 'id_29', 'id_30', \n",
    "            'id_31', 'id_33', 'id_34', 'id_35', 'id_36', 'id_37', 'id_38', 'DeviceType', 'DeviceInfo']\n",
    "str_type += ['id-12', 'id-15', 'id-16', 'id-23', 'id-27', 'id-28', 'id-29', 'id-30', \n",
    "            'id-31', 'id-33', 'id-34', 'id-35', 'id-36', 'id-37', 'id-38']\n",
    "\n",
    "# FIRST 53 COLUMNS\n",
    "cols = ['TransactionID', 'TransactionDT', 'TransactionAmt',\n",
    "       'ProductCD', 'card1', 'card2', 'card3', 'card4', 'card5', 'card6',\n",
    "       'addr1', 'addr2', 'dist1', 'dist2', 'P_emaildomain', 'R_emaildomain',\n",
    "       'C1', 'C2', 'C3', 'C4', 'C5', 'C6', 'C7', 'C8', 'C9', 'C10', 'C11',\n",
    "       'C12', 'C13', 'C14', 'D1', 'D2', 'D3', 'D4', 'D5', 'D6', 'D7', 'D8',\n",
    "       'D9', 'D10', 'D11', 'D12', 'D13', 'D14', 'D15', 'M1', 'M2', 'M3', 'M4',\n",
    "       'M5', 'M6', 'M7', 'M8', 'M9']\n",
    "\n",
    "# V COLUMNS TO LOAD DECIDED BY CORRELATION EDA\n",
    "# https://www.kaggle.com/cdeotte/eda-for-columns-v-and-id\n",
    "v =  [1, 3, 4, 6, 8, 11]\n",
    "v += [13, 14, 17, 20, 23, 26, 27, 30]\n",
    "v += [36, 37, 40, 41, 44, 47, 48]\n",
    "v += [54, 56, 59, 62, 65, 67, 68, 70]\n",
    "v += [76, 78, 80, 82, 86, 88, 89, 91]\n",
    "\n",
    "#v += [96, 98, 99, 104] #relates to groups, no NAN \n",
    "v += [107, 108, 111, 115, 117, 120, 121, 123] # maybe group, no NAN\n",
    "v += [124, 127, 129, 130, 136] # relates to groups, no NAN\n",
    "\n",
    "# LOTS OF NAN BELOW\n",
    "v += [138, 139, 142, 147, 156, 162] #b1\n",
    "v += [165, 160, 166] #b1\n",
    "v += [178, 176, 173, 182] #b2\n",
    "v += [187, 203, 205, 207, 215] #b2\n",
    "v += [169, 171, 175, 180, 185, 188, 198, 210, 209] #b2\n",
    "v += [218, 223, 224, 226, 228, 229, 235] #b3\n",
    "v += [240, 258, 257, 253, 252, 260, 261] #b3\n",
    "v += [264, 266, 267, 274, 277] #b3\n",
    "v += [220, 221, 234, 238, 250, 271] #b3\n",
    "\n",
    "v += [294, 284, 285, 286, 291, 297] # relates to grous, no NAN\n",
    "v += [303, 305, 307, 309, 310, 320] # relates to groups, no NAN\n",
    "v += [281, 283, 289, 296, 301, 314] # relates to groups, no NAN\n",
    "#v += [332, 325, 335, 338] # b4 lots NAN\n",
    "\n",
    "cols += ['V'+str(x) for x in v]\n",
    "dtypes = {}\n",
    "for c in cols+['id_0'+str(x) for x in range(1,10)]+['id_'+str(x) for x in range(10,34)]+\\\n",
    "    ['id-0'+str(x) for x in range(1,10)]+['id-'+str(x) for x in range(10,34)]:\n",
    "        dtypes[c] = 'float32'\n",
    "for c in str_type: dtypes[c] = 'category'"
   ]
  },
  {
   "cell_type": "code",
   "execution_count": 3,
   "id": "a13addbc-d590-4189-9136-274591806458",
   "metadata": {},
   "outputs": [
    {
     "name": "stdout",
     "output_type": "stream",
     "text": [
      "CPU times: user 7.11 s, sys: 1.5 s, total: 8.61 s\n",
      "Wall time: 8.61 s\n"
     ]
    }
   ],
   "source": [
    "%%time\n",
    "# Carregar dataset de transações de treino\n",
    "X_train = pd.read_csv('ieee-fraud-detection/train_transaction.csv', index_col='TransactionID', dtype=dtypes, usecols=cols+['isFraud'])\n",
    "\n",
    "# Carregar dataset de identidade de treino\n",
    "train_id = pd.read_csv('ieee-fraud-detection/train_identity.csv', index_col='TransactionID', dtype=dtypes)\n",
    "\n",
    "# Combinar transações e identidade no dataset de treino\n",
    "X_train = X_train.merge(train_id, how='left', left_index=True, right_index=True)"
   ]
  },
  {
   "cell_type": "markdown",
   "id": "b834c8d0-4807-4f89-897a-657386130c4e",
   "metadata": {},
   "source": [
    "## Subamostra de 10% \n",
    "Para identificar o melhor modelo com hiperparâmetros otimizados automaticaticamento pelo nosso algoritmo"
   ]
  },
  {
   "cell_type": "code",
   "execution_count": 4,
   "id": "440670b6-b963-4209-9bf0-e5e9a96f895a",
   "metadata": {},
   "outputs": [
    {
     "name": "stdout",
     "output_type": "stream",
     "text": [
      "isFraud\n",
      "0    0.965015\n",
      "1    0.034985\n",
      "Name: proportion, dtype: float64\n",
      "CPU times: user 516 ms, sys: 48.1 ms, total: 564 ms\n",
      "Wall time: 563 ms\n"
     ]
    }
   ],
   "source": [
    "%%time\n",
    "# Amostrar 10% dos dados do dataframe mantendo a proporção da classe isFraud\n",
    "X_train_sample, _ = train_test_split(X_train, test_size=0.90, stratify=X_train['isFraud'], random_state=42)\n",
    "\n",
    "# Verificar a distribuição da amostra rotulada\n",
    "print(X_train_sample['isFraud'].value_counts(normalize=True))"
   ]
  },
  {
   "cell_type": "code",
   "execution_count": 5,
   "id": "5e9b799d-36ef-435a-ad22-555bf7bcee2e",
   "metadata": {},
   "outputs": [
    {
     "name": "stdout",
     "output_type": "stream",
     "text": [
      "Formato do dataset de treino: (59054, 213)\n"
     ]
    }
   ],
   "source": [
    "# Separar a variável alvo (isFraud)\n",
    "y_train = X_train_sample['isFraud'].copy()\n",
    "del X_train_sample['isFraud']\n",
    "\n",
    "# Reiniciar os índices para ambos os conjuntos\n",
    "X_train_sample = X_train_sample.reset_index(drop=True)\n",
    "y_train = y_train.reset_index(drop=True)\n",
    "\n",
    "# Verificar o formato dos dados de treino \n",
    "print('Formato do dataset de treino:', X_train_sample.shape)"
   ]
  },
  {
   "cell_type": "markdown",
   "id": "675aba28-0aca-4810-b5ff-d1c93d5b30ad",
   "metadata": {},
   "source": [
    "## O dataset de treinamento \"sampleado\", rotulado, foi dividido em conjuntos de reino e teste."
   ]
  },
  {
   "cell_type": "code",
   "execution_count": 6,
   "id": "6ff4e0e2-c062-41ce-b98a-4f5f144ee8b7",
   "metadata": {},
   "outputs": [
    {
     "name": "stdout",
     "output_type": "stream",
     "text": [
      "Novo shape de X_train: (41337, 213)\n",
      "Novo shape de X_test: (17717, 213)\n"
     ]
    }
   ],
   "source": [
    "# Dividir o dataset em treino e teste (70% treino e 30% teste)\n",
    "X_train, X_test, y_train, y_test = train_test_split(X_train_sample, y_train, test_size=0.3, random_state=42, stratify=y_train)\n",
    "\n",
    "# Exibir a nova forma dos dados\n",
    "print('Novo shape de X_train:', X_train.shape)\n",
    "print('Novo shape de X_test:', X_test.shape)"
   ]
  },
  {
   "cell_type": "markdown",
   "id": "fefeeee9-e268-4247-a71e-d8214df4bcce",
   "metadata": {},
   "source": [
    "## Normalizar as Colunas D\n",
    "As colunas D representam \"deltas de tempo\" a partir de algum ponto no passado. Vamos transformar essas colunas em seu ponto no passado, para evitar que elas continuem aumentando com o tempo. A fórmula utilizada será: `D15n = Transaction_Day - D15` e `Transaction_Day = TransactionDT / (24*60*60)`. Após essa transformação, multiplicaremos esse valor por -1."
   ]
  },
  {
   "cell_type": "code",
   "execution_count": 7,
   "id": "77d9794a-5af2-4e89-9f0d-7ca15b3c452c",
   "metadata": {},
   "outputs": [],
   "source": [
    "# NORMALIZE D COLUMNS\n",
    "for i in range(1,16):\n",
    "    if i in [1,2,3,5,9]: continue\n",
    "    X_train['D'+str(i)] =  X_train['D'+str(i)] - X_train.TransactionDT/np.float32(24*60*60)\n",
    "    X_test['D'+str(i)] = X_test['D'+str(i)] - X_test.TransactionDT/np.float32(24*60*60) "
   ]
  },
  {
   "cell_type": "code",
   "execution_count": 8,
   "id": "eeb0acdf-df56-4414-ada7-b27cc97376bb",
   "metadata": {},
   "outputs": [
    {
     "name": "stdout",
     "output_type": "stream",
     "text": [
      "CPU times: user 154 ms, sys: 0 ns, total: 154 ms\n",
      "Wall time: 154 ms\n"
     ]
    }
   ],
   "source": [
    "%%time\n",
    "# LABEL ENCODE AND MEMORY REDUCE\n",
    "for i,f in enumerate(X_train.columns):\n",
    "    # FACTORIZE CATEGORICAL VARIABLES\n",
    "    if (str(X_train[f].dtype)=='category')|(X_train[f].dtype=='object'): \n",
    "        df_comb = pd.concat([X_train[f],X_test[f]],axis=0)\n",
    "        df_comb,_ = df_comb.factorize(sort=True)\n",
    "        if df_comb.max()>32000: print(f,'needs int32')\n",
    "        X_train[f] = df_comb[:len(X_train)].astype('int16')\n",
    "        X_test[f] = df_comb[len(X_train):].astype('int16')\n",
    "    # SHIFT ALL NUMERICS POSITIVE. SET NAN to -1\n",
    "    elif f not in ['TransactionAmt','TransactionDT']:\n",
    "        mn = np.min((X_train[f].min(),X_test[f].min()))\n",
    "        X_train[f] -= np.float32(mn)\n",
    "        X_test[f] -= np.float32(mn)\n",
    "        X_train[f] = X_train[f].fillna(-1)\n",
    "        X_test[f] = X_test[f].fillna(-1)"
   ]
  },
  {
   "cell_type": "markdown",
   "id": "074a34c1-37be-41e9-905b-a1ddb2b4e991",
   "metadata": {},
   "source": [
    "## Funções de Codificação\n",
    "Abaixo estão 5 funções de codificação. (1) `encode_FE` faz a codificação por frequência, onde combina os dados de treino e teste antes de codificar. (2) `encode_LE` faz a codificação de rótulos para variáveis categóricas. (3) `encode_AG` cria variáveis agregadas, como média e desvio padrão agregados. (4) `encode_CB` combina duas colunas. (5) `encode_AG2` cria variáveis agregadas que contam quantos valores únicos de uma característica estão presentes em um grupo. Para mais explicações sobre *feature engineering*, veja a discussão [aqui][1].\n",
    "\n",
    "**Observação**: Ajustei as funções para evitar os *warnings* de desfragmentação de *DataFrames* no `Pandas`, garantindo que as operações de codificação e agregação sejam realizadas de forma eficiente e sem gerar alertas desnecessários.\n",
    "\n",
    "[1]: https://www.kaggle.com/c/ieee-fraud-detection/discussion/108575#latest-641841"
   ]
  },
  {
   "cell_type": "code",
   "execution_count": 9,
   "id": "075f7f4e-2e92-4fef-ae54-505ca3461e43",
   "metadata": {},
   "outputs": [],
   "source": [
    "import pandas as pd\n",
    "import numpy as np\n",
    "import gc\n",
    "\n",
    "# Função ajustada para adicionar novas colunas preservando o índice\n",
    "def add_new_columns(df, new_cols_dict):\n",
    "    new_cols_df = pd.DataFrame(new_cols_dict, index=df.index)\n",
    "    df = pd.concat([df, new_cols_df], axis=1)\n",
    "    return df\n",
    "\n",
    "# FUNÇÃO AJUSTADA PARA FREQUENCY ENCODE\n",
    "def encode_FE(df1, df2, cols):\n",
    "    df_combined = pd.concat([df1[cols], df2[cols]])\n",
    "    encodings = {}\n",
    "    for col in cols:\n",
    "        vc = df_combined[col].value_counts(dropna=True, normalize=True).to_dict()\n",
    "        vc[-1] = -1\n",
    "        encodings[col] = vc\n",
    "    new_cols_train = {}\n",
    "    new_cols_test = {}\n",
    "    for col in cols:\n",
    "        nm = col + '_FE'\n",
    "        new_cols_train[nm] = df1[col].map(encodings[col]).astype('float32')\n",
    "        new_cols_test[nm] = df2[col].map(encodings[col]).astype('float32')\n",
    "        print(nm, ', ', end='')\n",
    "    df1 = add_new_columns(df1, new_cols_train)\n",
    "    df2 = add_new_columns(df2, new_cols_test)\n",
    "    return df1, df2\n",
    "\n",
    "# FUNÇÃO AJUSTADA PARA LABEL ENCODE\n",
    "def encode_LE(col, train, test, verbose=True):\n",
    "    df_combined = pd.concat([train[col], test[col]], axis=0)\n",
    "    df_combined, _ = df_combined.factorize(sort=True)\n",
    "    nm = col\n",
    "    dtype = 'int32' if df_combined.max() > 32000 else 'int16'\n",
    "    train[nm] = df_combined[:len(train)].astype(dtype)\n",
    "    test[nm] = df_combined[len(train):].astype(dtype)\n",
    "    if verbose:\n",
    "        print(nm, ', ', end='')\n",
    "    gc.collect()\n",
    "\n",
    "# FUNÇÃO AJUSTADA PARA GROUP AGGREGATION MEAN E STD\n",
    "def encode_AG(main_columns, uids, aggregations=['mean'], train_df=None, test_df=None, fillna=True, usena=False):\n",
    "    for main_column in main_columns:\n",
    "        for col in uids:\n",
    "            temp_df = pd.concat([train_df[[col, main_column]], test_df[[col, main_column]]])\n",
    "            if usena:\n",
    "                temp_df[main_column] = temp_df[main_column].replace(-1, np.nan)\n",
    "            agg_df = temp_df.groupby([col])[main_column].agg(aggregations)\n",
    "            agg_df = agg_df.reset_index()\n",
    "            for agg_type in aggregations:\n",
    "                new_col_name = f'{main_column}_{col}_{agg_type}'\n",
    "                agg_series = agg_df.set_index(col)[agg_type]\n",
    "                train_df[new_col_name] = train_df[col].map(agg_series).astype('float32')\n",
    "                test_df[new_col_name] = test_df[col].map(agg_series).astype('float32')\n",
    "                if fillna:\n",
    "                    train_df[new_col_name] = train_df[new_col_name].fillna(-1)\n",
    "                    test_df[new_col_name] = test_df[new_col_name].fillna(-1)\n",
    "                print(f\"'{new_col_name}'\", ', ', end='')\n",
    "\n",
    "# FUNÇÃO AJUSTADA PARA COMBINAR FEATURES\n",
    "def encode_CB(col1, col2, df1, df2):\n",
    "    nm = col1 + '_' + col2\n",
    "    new_cols_train = {nm: df1[col1].astype(str) + '_' + df1[col2].astype(str)}\n",
    "    new_cols_test = {nm: df2[col1].astype(str) + '_' + df2[col2].astype(str)}\n",
    "    df1 = add_new_columns(df1, new_cols_train)\n",
    "    df2 = add_new_columns(df2, new_cols_test)\n",
    "    encode_LE(nm, df1, df2, verbose=False)\n",
    "    print(nm, ', ', end='')\n",
    "    return df1, df2\n",
    "\n",
    "# FUNÇÃO AJUSTADA PARA GROUP AGGREGATION NUNIQUE\n",
    "def encode_AG2(main_columns, uids, train_df, test_df):\n",
    "    for main_column in main_columns:\n",
    "        for col in uids:\n",
    "            temp_df = pd.concat([train_df[[col, main_column]], test_df[[col, main_column]]])\n",
    "            nunique_series = temp_df.groupby(col)[main_column].nunique()\n",
    "            new_col_name = f'{col}_{main_column}_ct'\n",
    "            train_df[new_col_name] = train_df[col].map(nunique_series).astype('float32')\n",
    "            test_df[new_col_name] = test_df[col].map(nunique_series).astype('float32')\n",
    "            print(new_col_name + ', ', end='')"
   ]
  },
  {
   "cell_type": "markdown",
   "id": "312a27d2-9df9-46ad-a3c4-fc6ab0da941f",
   "metadata": {},
   "source": [
    "## Engenharia de *Features*\n",
    "A equipe vencedora criou novas *features*, escolhendo cada uma delas porque aumentavam a validação local. O procedimento para a criação de *features* utilizado pela equipe foi o seguinte: primeiro, eles pensavam em uma ideia e criavam uma nova *feature*. Em seguida, adicionavam essa *feature* ao modelo e avaliavam se o **AUC** da validação local aumentava ou diminuía. Se o AUC aumentasse, mantinham a *feature*; caso contrário, a descartavam."
   ]
  },
  {
   "cell_type": "code",
   "execution_count": 10,
   "id": "d508fd26-7956-403b-83ff-56860e525c8f",
   "metadata": {},
   "outputs": [
    {
     "name": "stdout",
     "output_type": "stream",
     "text": [
      "cents, addr1_FE , card1_FE , card2_FE , card3_FE , P_emaildomain_FE , card1_addr1_FE , card1_addr1_P_emaildomain_FE , 'TransactionAmt_card1_mean' , 'TransactionAmt_card1_std' , 'TransactionAmt_card1_addr1_mean' , 'TransactionAmt_card1_addr1_std' , 'TransactionAmt_card1_addr1_P_emaildomain_mean' , 'TransactionAmt_card1_addr1_P_emaildomain_std' , 'D9_card1_mean' , 'D9_card1_std' , 'D9_card1_addr1_mean' , 'D9_card1_addr1_std' , 'D9_card1_addr1_P_emaildomain_mean' , 'D9_card1_addr1_P_emaildomain_std' , 'D11_card1_mean' , 'D11_card1_std' , 'D11_card1_addr1_mean' , 'D11_card1_addr1_std' , 'D11_card1_addr1_P_emaildomain_mean' , 'D11_card1_addr1_P_emaildomain_std' , \n",
      "Train shape: (41337, 241), Test shape: (17717, 241)\n",
      "CPU times: user 395 ms, sys: 24.6 ms, total: 420 ms\n",
      "Wall time: 418 ms\n"
     ]
    }
   ],
   "source": [
    "%%time\n",
    "# Defragmentando os DataFrames antes de começar\n",
    "X_train = X_train.copy()\n",
    "X_test = X_test.copy()\n",
    "\n",
    "# Criando a coluna 'cents' e adicionando sem fragmentação\n",
    "new_cols_train = {}\n",
    "new_cols_test = {}\n",
    "new_cols_train['cents'] = (X_train['TransactionAmt'] - np.floor(X_train['TransactionAmt'])).astype('float32')\n",
    "new_cols_test['cents'] = (X_test['TransactionAmt'] - np.floor(X_test['TransactionAmt'])).astype('float32')\n",
    "print('cents, ', end='')\n",
    "\n",
    "X_train = add_new_columns(X_train, new_cols_train)\n",
    "X_test = add_new_columns(X_test, new_cols_test)\n",
    "\n",
    "# FREQUENCY ENCODE: ADDR1, CARD1, CARD2, CARD3, P_EMAILDOMAIN\n",
    "X_train, X_test = encode_FE(X_train, X_test, ['addr1', 'card1', 'card2', 'card3', 'P_emaildomain'])\n",
    "\n",
    "# COMBINAR COLUNAS CARD1+ADDR1, CARD1+ADDR1+P_EMAILDOMAIN\n",
    "new_cols_train = {}\n",
    "new_cols_test = {}\n",
    "new_cols_train['card1_addr1'] = X_train['card1'].astype(str) + '_' + X_train['addr1'].astype(str)\n",
    "new_cols_test['card1_addr1'] = X_test['card1'].astype(str) + '_' + X_test['addr1'].astype(str)\n",
    "\n",
    "new_cols_train['card1_addr1_P_emaildomain'] = new_cols_train['card1_addr1'] + '_' + X_train['P_emaildomain'].astype(str)\n",
    "new_cols_test['card1_addr1_P_emaildomain'] = new_cols_test['card1_addr1'] + '_' + X_test['P_emaildomain'].astype(str)\n",
    "\n",
    "X_train = add_new_columns(X_train, new_cols_train)\n",
    "X_test = add_new_columns(X_test, new_cols_test)\n",
    "\n",
    "# FREQUENCY ENCODE NOVAMENTE\n",
    "X_train, X_test = encode_FE(X_train, X_test, ['card1_addr1', 'card1_addr1_P_emaildomain'])\n",
    "\n",
    "# GROUP AGGREGATE\n",
    "encode_AG(['TransactionAmt', 'D9', 'D11'],\n",
    "          ['card1', 'card1_addr1', 'card1_addr1_P_emaildomain'],\n",
    "          ['mean', 'std'], train_df=X_train, test_df=X_test, usena=True)\n",
    "\n",
    "# Preencher valores faltantes sem usar inplace=True\n",
    "X_train = X_train.fillna(-1)\n",
    "X_test = X_test.fillna(-1)\n",
    "\n",
    "print(f\"\\nTrain shape: {X_train.shape}, Test shape: {X_test.shape}\")"
   ]
  },
  {
   "cell_type": "markdown",
   "id": "14d1e692-3b66-4d8f-861f-37db7573c671",
   "metadata": {},
   "source": [
    "## Seleção de *Features* - Consistência Temporal\n",
    "A equipe vencedora adicionou 28 novas *features* e já havia removido 219 colunas **V** a partir da análise de correlação realizada [aqui][1]. Assim, eles ficaram com 242 *features*. Em seguida, verificaram cada uma dessas 242 *features* quanto à \"consistência temporal\". Foram construídos 242 modelos, onde cada modelo foi treinado com o primeiro mês dos dados de treino e usou apenas uma *feature*. Depois, foram feitas previsões para o último mês dos dados de treino. O objetivo era garantir que tanto o AUC de treino quanto o AUC de validação estivessem acima de AUC = 0.5. Foi descoberto que 19 *features* falharam nesse teste e, por isso, foram removidas. Além disso, a equipe removeu 7 colunas **D**, que estavam, em sua maioria, preenchidas com valores NaN. Outras técnicas de seleção de *features* podem ser encontradas [aqui][2].\n",
    "\n",
    "[1]: https://www.kaggle.com/cdeotte/eda-for-columns-v-and-id\n",
    "[2]: https://www.kaggle.com/c/ieee-fraud-detection/discussion/111308"
   ]
  },
  {
   "cell_type": "code",
   "execution_count": 11,
   "id": "d35c577f-0549-4bd1-8530-6b9fc0ddbaae",
   "metadata": {},
   "outputs": [],
   "source": [
    "cols = list( X_train.columns )\n",
    "cols.remove('TransactionDT')\n",
    "for c in ['D6','D7','D8','D9','D12','D13','D14']:\n",
    "    cols.remove(c)\n",
    "    \n",
    "# FAILED TIME CONSISTENCY TEST\n",
    "for c in ['C3','M5','id_08','id_33']:\n",
    "    cols.remove(c)\n",
    "for c in ['card4','id_07','id_14','id_21','id_30','id_32','id_34']:\n",
    "    cols.remove(c)\n",
    "for c in ['id_'+str(x) for x in range(22,28)]:\n",
    "    cols.remove(c)"
   ]
  },
  {
   "cell_type": "code",
   "execution_count": 12,
   "id": "db311494-2530-4431-a7e3-c8ec14a33d33",
   "metadata": {},
   "outputs": [
    {
     "name": "stdout",
     "output_type": "stream",
     "text": [
      "USANDO AGORA AS SEGUINTES 216 FEATURES.\n"
     ]
    },
    {
     "data": {
      "text/plain": [
       "array(['TransactionAmt', 'ProductCD', 'card1', 'card2', 'card3', 'card5',\n",
       "       'card6', 'addr1', 'addr2', 'dist1', 'dist2', 'P_emaildomain',\n",
       "       'R_emaildomain', 'C1', 'C2', 'C4', 'C5', 'C6', 'C7', 'C8', 'C9',\n",
       "       'C10', 'C11', 'C12', 'C13', 'C14', 'D1', 'D2', 'D3', 'D4', 'D5',\n",
       "       'D10', 'D11', 'D15', 'M1', 'M2', 'M3', 'M4', 'M6', 'M7', 'M8',\n",
       "       'M9', 'V1', 'V3', 'V4', 'V6', 'V8', 'V11', 'V13', 'V14', 'V17',\n",
       "       'V20', 'V23', 'V26', 'V27', 'V30', 'V36', 'V37', 'V40', 'V41',\n",
       "       'V44', 'V47', 'V48', 'V54', 'V56', 'V59', 'V62', 'V65', 'V67',\n",
       "       'V68', 'V70', 'V76', 'V78', 'V80', 'V82', 'V86', 'V88', 'V89',\n",
       "       'V91', 'V107', 'V108', 'V111', 'V115', 'V117', 'V120', 'V121',\n",
       "       'V123', 'V124', 'V127', 'V129', 'V130', 'V136', 'V138', 'V139',\n",
       "       'V142', 'V147', 'V156', 'V160', 'V162', 'V165', 'V166', 'V169',\n",
       "       'V171', 'V173', 'V175', 'V176', 'V178', 'V180', 'V182', 'V185',\n",
       "       'V187', 'V188', 'V198', 'V203', 'V205', 'V207', 'V209', 'V210',\n",
       "       'V215', 'V218', 'V220', 'V221', 'V223', 'V224', 'V226', 'V228',\n",
       "       'V229', 'V234', 'V235', 'V238', 'V240', 'V250', 'V252', 'V253',\n",
       "       'V257', 'V258', 'V260', 'V261', 'V264', 'V266', 'V267', 'V271',\n",
       "       'V274', 'V277', 'V281', 'V283', 'V284', 'V285', 'V286', 'V289',\n",
       "       'V291', 'V294', 'V296', 'V297', 'V301', 'V303', 'V305', 'V307',\n",
       "       'V309', 'V310', 'V314', 'V320', 'id_01', 'id_02', 'id_03', 'id_04',\n",
       "       'id_05', 'id_06', 'id_09', 'id_10', 'id_11', 'id_12', 'id_13',\n",
       "       'id_15', 'id_16', 'id_17', 'id_18', 'id_19', 'id_20', 'id_28',\n",
       "       'id_29', 'id_31', 'id_35', 'id_36', 'id_37', 'id_38', 'DeviceType',\n",
       "       'DeviceInfo', 'cents', 'addr1_FE', 'card1_FE', 'card2_FE',\n",
       "       'card3_FE', 'P_emaildomain_FE', 'card1_addr1',\n",
       "       'card1_addr1_P_emaildomain', 'card1_addr1_FE',\n",
       "       'card1_addr1_P_emaildomain_FE', 'TransactionAmt_card1_mean',\n",
       "       'TransactionAmt_card1_std', 'TransactionAmt_card1_addr1_mean',\n",
       "       'TransactionAmt_card1_addr1_std',\n",
       "       'TransactionAmt_card1_addr1_P_emaildomain_mean',\n",
       "       'TransactionAmt_card1_addr1_P_emaildomain_std', 'D9_card1_mean',\n",
       "       'D9_card1_std', 'D9_card1_addr1_mean', 'D9_card1_addr1_std',\n",
       "       'D9_card1_addr1_P_emaildomain_mean',\n",
       "       'D9_card1_addr1_P_emaildomain_std', 'D11_card1_mean',\n",
       "       'D11_card1_std', 'D11_card1_addr1_mean', 'D11_card1_addr1_std',\n",
       "       'D11_card1_addr1_P_emaildomain_mean',\n",
       "       'D11_card1_addr1_P_emaildomain_std'], dtype='<U45')"
      ]
     },
     "execution_count": 12,
     "metadata": {},
     "output_type": "execute_result"
    }
   ],
   "source": [
    "print('USANDO AGORA AS SEGUINTES', len(cols), 'FEATURES.')\n",
    "np.array(cols)"
   ]
  },
  {
   "cell_type": "markdown",
   "id": "46ab256c-6532-4b55-9b2e-7cb84337ef5e",
   "metadata": {},
   "source": [
    "## Validação Local\n",
    "Para a competição, a equipe vencedora utilizou validação local baseada no tempo. Eles avaliaram as *features* treinando nos primeiros 75% dos dados e prevendo os últimos 25%. Konstantin, um dos membros da equipe, utilizou uma validação local ligeiramente diferente. Ele treinou nos primeiros 4 meses, pulou um mês e previu o último mês. O modelo **XGB** da equipe, com 216 *features*, atingiu AUC = 0.9363 na validação local de Chris e AUC = 0.9241 na validação local de Konstantin. Vale destacar que este é o mesmo AUC que o modelo **LGBM** de Konstantin alcançou sem a técnica \"mágica\" que ele postou [aqui][1] e [aqui][2].\n",
    "\n",
    "[1]: https://www.kaggle.com/kyakovlev/ieee-fe-for-local-test\n",
    "[2]: https://www.kaggle.com/kyakovlev/ieee-lgbm-with-groupkfold-cv"
   ]
  },
  {
   "cell_type": "markdown",
   "id": "89c9ccef-e6a8-4f09-8239-e2995c0eb9a7",
   "metadata": {},
   "source": [
    "Essa adaptação permite que você trabalhe com subconjuntos específicos de treino e validação, garantindo que o modelo seja treinado em X_train_res com y_train_res e avaliado em X_valid com y_valid. Usar índices personalizados (idxT e idxV) dá mais controle sobre como os dados são divididos, permitindo flexibilidade em estratégias de validação e análise dos resultados."
   ]
  },
  {
   "cell_type": "code",
   "execution_count": 13,
   "id": "3755c589-6b0e-430e-bfe2-c58b8a176fcf",
   "metadata": {},
   "outputs": [],
   "source": [
    "# CHRIS - TRAIN 75% PREDICT 25%\n",
    "idxT = X_train.index[:3*len(X_train)//4]\n",
    "idxV = X_train.index[3*len(X_train)//4:]"
   ]
  },
  {
   "cell_type": "code",
   "execution_count": 14,
   "id": "ad357f1b-2313-4448-b879-c282492697da",
   "metadata": {},
   "outputs": [],
   "source": [
    "# Separar dados de treino e validação sem sobrescrever X_train original\n",
    "X_train_res, y_train_res = X_train.loc[idxT], y_train.loc[idxT]\n",
    "X_valid, y_valid = X_train.loc[idxV], y_train.loc[idxV]"
   ]
  },
  {
   "cell_type": "code",
   "execution_count": 15,
   "id": "f036a439-cfc5-4dd8-9647-14f2a2eacdbd",
   "metadata": {},
   "outputs": [],
   "source": [
    "# Para garantir a reprodutibilidade\n",
    "SEED=42"
   ]
  },
  {
   "cell_type": "code",
   "execution_count": 16,
   "id": "d542b33a-9255-4229-a07c-7a6afb070137",
   "metadata": {},
   "outputs": [
    {
     "data": {
      "text/plain": [
       "0"
      ]
     },
     "execution_count": 16,
     "metadata": {},
     "output_type": "execute_result"
    }
   ],
   "source": [
    "gc.collect()"
   ]
  },
  {
   "cell_type": "code",
   "execution_count": 17,
   "id": "6b01979b-7be1-4a10-a905-7d01c1351903",
   "metadata": {},
   "outputs": [
    {
     "name": "stdout",
     "output_type": "stream",
     "text": [
      "Colunas de X_train: Index(['TransactionDT', 'TransactionAmt', 'ProductCD', 'card1', 'card2',\n",
      "       'card3', 'card4', 'card5', 'card6', 'addr1',\n",
      "       ...\n",
      "       'D9_card1_addr1_mean', 'D9_card1_addr1_std',\n",
      "       'D9_card1_addr1_P_emaildomain_mean', 'D9_card1_addr1_P_emaildomain_std',\n",
      "       'D11_card1_mean', 'D11_card1_std', 'D11_card1_addr1_mean',\n",
      "       'D11_card1_addr1_std', 'D11_card1_addr1_P_emaildomain_mean',\n",
      "       'D11_card1_addr1_P_emaildomain_std'],\n",
      "      dtype='object', length=241)\n",
      "Colunas de X_test: Index(['TransactionDT', 'TransactionAmt', 'ProductCD', 'card1', 'card2',\n",
      "       'card3', 'card4', 'card5', 'card6', 'addr1',\n",
      "       ...\n",
      "       'D9_card1_addr1_mean', 'D9_card1_addr1_std',\n",
      "       'D9_card1_addr1_P_emaildomain_mean', 'D9_card1_addr1_P_emaildomain_std',\n",
      "       'D11_card1_mean', 'D11_card1_std', 'D11_card1_addr1_mean',\n",
      "       'D11_card1_addr1_std', 'D11_card1_addr1_P_emaildomain_mean',\n",
      "       'D11_card1_addr1_P_emaildomain_std'],\n",
      "      dtype='object', length=241)\n"
     ]
    }
   ],
   "source": [
    "print(\"Colunas de X_train:\", X_train_res.columns)\n",
    "print(\"Colunas de X_test:\", X_test.columns)"
   ]
  },
  {
   "cell_type": "code",
   "execution_count": 18,
   "id": "bf7fe914-891f-4ab5-aa17-17abc32949bc",
   "metadata": {},
   "outputs": [
    {
     "name": "stdout",
     "output_type": "stream",
     "text": [
      "Index(['card1_addr1', 'card1_addr1_P_emaildomain'], dtype='object')\n"
     ]
    }
   ],
   "source": [
    "# Identificar colunas do tipo 'object'\n",
    "object_columns = X_train_res.select_dtypes(include='object').columns\n",
    "print(object_columns)"
   ]
  },
  {
   "cell_type": "code",
   "execution_count": 19,
   "id": "e4c03d92-da73-4fa4-ba49-12aa6495f205",
   "metadata": {},
   "outputs": [],
   "source": [
    "# Verifique e converta as colunas para o tipo 'category'\n",
    "categorical_cols = ['card1_addr1', 'card1_addr1_P_emaildomain']\n",
    "\n",
    "for col in categorical_cols:\n",
    "    X_train_res[col] = X_train_res[col].fillna(-1).astype('category')\n",
    "    X_test[col] = X_test[col].fillna(-1).astype('category')\n",
    "\n",
    "# Converta as categorias para códigos numéricos\n",
    "for col in categorical_cols:\n",
    "    X_train_res[col] = X_train_res[col].cat.codes\n",
    "    X_test[col] = X_test[col].cat.codes"
   ]
  },
  {
   "cell_type": "code",
   "execution_count": 20,
   "id": "632a9d2b-647d-449a-a31a-737ebe3aef36",
   "metadata": {},
   "outputs": [
    {
     "name": "stdout",
     "output_type": "stream",
     "text": [
      "Index([], dtype='object')\n"
     ]
    }
   ],
   "source": [
    "# Verificar se ainda há colunas do tipo 'object'\n",
    "object_columns = X_train_res.select_dtypes(include='object').columns\n",
    "print(object_columns)"
   ]
  },
  {
   "cell_type": "code",
   "execution_count": 21,
   "id": "236ec19e-ea34-47c5-aa96-ea7c52a9b187",
   "metadata": {},
   "outputs": [
    {
     "name": "stdout",
     "output_type": "stream",
     "text": [
      "TransactionDT                         0\n",
      "TransactionAmt                        0\n",
      "ProductCD                             0\n",
      "card1                                 0\n",
      "card2                                 0\n",
      "                                     ..\n",
      "D11_card1_std                         0\n",
      "D11_card1_addr1_mean                  0\n",
      "D11_card1_addr1_std                   0\n",
      "D11_card1_addr1_P_emaildomain_mean    0\n",
      "D11_card1_addr1_P_emaildomain_std     0\n",
      "Length: 241, dtype: int64\n",
      "TransactionDT                         0\n",
      "TransactionAmt                        0\n",
      "ProductCD                             0\n",
      "card1                                 0\n",
      "card2                                 0\n",
      "                                     ..\n",
      "D11_card1_std                         0\n",
      "D11_card1_addr1_mean                  0\n",
      "D11_card1_addr1_std                   0\n",
      "D11_card1_addr1_P_emaildomain_mean    0\n",
      "D11_card1_addr1_P_emaildomain_std     0\n",
      "Length: 241, dtype: int64\n"
     ]
    }
   ],
   "source": [
    "# Verifique se há valores ausentes após a conversão\n",
    "print(X_train_res.isnull().sum())\n",
    "print(X_test.isnull().sum())\n",
    "\n",
    "# Remova ou trate valores ausentes se necessário\n",
    "X_train_res.fillna(-1, inplace=True)\n",
    "X_test.fillna(-1, inplace=True)"
   ]
  },
  {
   "cell_type": "markdown",
   "id": "513a5c96-c3ac-4364-9924-241a5ed8f7f0",
   "metadata": {},
   "source": [
    "## Algoritmo para selecionar o melhor de 3 modelos de árvore com otimização automática dos hiperparâmetros"
   ]
  },
  {
   "cell_type": "code",
   "execution_count": 22,
   "id": "9175661d-8225-4ae6-981a-278480bcbd34",
   "metadata": {},
   "outputs": [],
   "source": [
    "# Função para otimizar modelos e calcular o melhor threshold\n",
    "def find_best_threshold(y_true: np.ndarray, y_scores: np.ndarray, metric: str = 'f1') -> Tuple[float, float]:\n",
    "    \"\"\"\n",
    "    Função para encontrar o melhor threshold para a métrica escolhida (f1, precisão, recall).\n",
    "    \"\"\"\n",
    "    thresholds = np.linspace(0, 1, 101)\n",
    "    scores = []\n",
    "\n",
    "    for thresh in thresholds:\n",
    "        y_pred = (y_scores >= thresh).astype(int)\n",
    "        if metric == 'f1':\n",
    "            score = f1_score(y_true, y_pred)\n",
    "        elif metric == 'precision':\n",
    "            score = precision_score(y_true, y_pred)\n",
    "        elif metric == 'recall':\n",
    "            score = recall_score(y_true, y_pred)\n",
    "        scores.append(score)\n",
    "\n",
    "    best_idx = np.argmax(scores)\n",
    "    return thresholds[best_idx], scores[best_idx]\n",
    "\n",
    "def optimize_ensemble_models(X_train_res, X_test, y_train_res, y_test, metric='f1'):\n",
    "    param_spaces = {\n",
    "        'random_forest': {\n",
    "            'n_estimators': (10, 500),\n",
    "            'max_depth': (None, 5, 10, 20, 30),\n",
    "            'min_samples_split': (2, 5, 10, 20)\n",
    "        },\n",
    "        'adaboost': {\n",
    "            'n_estimators': (10, 1000),\n",
    "            'learning_rate': (0.01, 1.0)\n",
    "        },\n",
    "        'xgboost': {\n",
    "            'n_estimators': (100, 2000),\n",
    "            'max_depth': (3, 20),\n",
    "            'learning_rate': (0.01, 0.3),\n",
    "            'subsample': (0.2, 1.0)\n",
    "        }\n",
    "    }\n",
    "\n",
    "    best_auc = 0\n",
    "    best_model = None\n",
    "\n",
    "    models = {\n",
    "        'random_forest': RandomForestClassifier(random_state=SEED),\n",
    "        'adaboost': AdaBoostClassifier(algorithm='SAMME', random_state=SEED),\n",
    "        'xgboost': XGBClassifier(eval_metric='auc', missing=-1, random_state=SEED)\n",
    "    }\n",
    "\n",
    "    for model_name, model in models.items():\n",
    "        bayes_search = BayesSearchCV(model, param_spaces[model_name], \n",
    "                                     n_iter=30, scoring='roc_auc', cv=5, n_jobs=-1, random_state=SEED)\n",
    "        print(f\"Treinando {model_name}...\")\n",
    "        bayes_search.fit(X_train_res, y_train_res)\n",
    "        best_params = bayes_search.best_params_\n",
    "\n",
    "        model.set_params(**best_params)\n",
    "        model.fit(X_train_res, y_train_res)\n",
    "\n",
    "        y_pred_proba = model.predict_proba(X_test)[:, 1]\n",
    "        auc_score = roc_auc_score(y_test, y_pred_proba)\n",
    "\n",
    "        print(f\"{model_name} AUC: {auc_score:.4f}\")\n",
    "\n",
    "        if auc_score > best_auc:\n",
    "            best_auc = auc_score\n",
    "            best_model = model\n",
    "\n",
    "    print(f\"\\nMelhor modelo: {type(best_model).__name__} com AUC: {best_auc:.4f}\")\n",
    "\n",
    "    best_threshold, best_metric_score = find_best_threshold(y_test, y_pred_proba, metric=metric)\n",
    "    y_pred_adjusted = (y_pred_proba >= best_threshold).astype(int)\n",
    "\n",
    "    precision = precision_score(y_test, y_pred_adjusted)\n",
    "    recall = recall_score(y_test, y_pred_adjusted)\n",
    "    f1 = f1_score(y_test, y_pred_adjusted)\n",
    "    cm = confusion_matrix(y_test, y_pred_adjusted)\n",
    "\n",
    "    print(f\"\\nThreshold ótimo ({metric}): {best_threshold:.2f}\")\n",
    "    print(\"\\nMatriz de Confusão Ajustada:\")\n",
    "    print(cm)\n",
    "    print(f\"\\nPrecisão: {precision:.4f}\")\n",
    "    print(f\"Recall: {recall:.4f}\")\n",
    "    print(f\"F1-Score: {f1:.4f}\")\n",
    "\n",
    "    # Gerar e visualizar a curva ROC\n",
    "    fpr, tpr, thresholds = roc_curve(y_test, y_pred_proba)\n",
    "    plt.plot(fpr, tpr, color='darkorange', lw=2, label=f'Curva ROC (área = {auc(fpr, tpr):.2f})')\n",
    "    plt.plot([0, 1], [0, 1], color='navy', lw=2, linestyle='--')\n",
    "    plt.xlim([-0.01, 1.0])\n",
    "    plt.ylim([0.0, 1.01])\n",
    "    plt.xlabel('Taxa de Falsos Positivos')\n",
    "    plt.ylabel('Taxa de Verdadeiros Positivos')\n",
    "    plt.legend(loc=\"lower right\")\n",
    "    plt.show()\n",
    "\n",
    "    # Gerar e visualizar a curva Precision-Recall\n",
    "    precision_curve, recall_curve, pr_thresholds = precision_recall_curve(y_test, y_pred_proba)\n",
    "    plt.plot(recall_curve, precision_curve, color='blue', lw=2)\n",
    "    plt.xlabel('Recall')\n",
    "    plt.ylabel('Precisão')\n",
    "    plt.title(f'Curva Precision-Recall')\n",
    "    plt.show()\n",
    "\n",
    "    return best_model, X_test, y_test"
   ]
  },
  {
   "cell_type": "code",
   "execution_count": 23,
   "id": "4d0da394-2b19-4466-8734-b55db1ea8b45",
   "metadata": {},
   "outputs": [
    {
     "name": "stdout",
     "output_type": "stream",
     "text": [
      "Treinando random_forest...\n",
      "random_forest AUC: 0.8955\n",
      "Treinando adaboost...\n",
      "adaboost AUC: 0.8715\n",
      "Treinando xgboost...\n",
      "xgboost AUC: 0.9069\n",
      "\n",
      "Melhor modelo: XGBClassifier com AUC: 0.9069\n",
      "\n",
      "Threshold ótimo (f1): 0.12\n",
      "\n",
      "Matriz de Confusão Ajustada:\n",
      "[[16942   155]\n",
      " [  282   338]]\n",
      "\n",
      "Precisão: 0.6856\n",
      "Recall: 0.5452\n",
      "F1-Score: 0.6074\n"
     ]
    },
    {
     "data": {
      "image/png": "[encoded data removed]",
      "text/plain": [
       "<Figure size 640x480 with 1 Axes>"
      ]
     },
     "metadata": {},
     "output_type": "display_data"
    },
    {
     "data": {
      "image/png": "[encoded data removed]",
      "text/plain": [
       "<Figure size 640x480 with 1 Axes>"
      ]
     },
     "metadata": {},
     "output_type": "display_data"
    },
    {
     "name": "stdout",
     "output_type": "stream",
     "text": [
      "CPU times: user 19min 7s, sys: 14 s, total: 19min 21s\n",
      "Wall time: 8h 48min 4s\n"
     ]
    }
   ],
   "source": [
    "%%time\n",
    "# Otimizar modelos e encontrar o melhor\n",
    "best_model, X_test, y_test = optimize_ensemble_models(X_train_res, X_test, y_train_res, y_test)"
   ]
  },
  {
   "cell_type": "code",
   "execution_count": 24,
   "id": "ef22cb9a-26dc-4888-8ee2-b52fab2364f2",
   "metadata": {},
   "outputs": [
    {
     "name": "stdout",
     "output_type": "stream",
     "text": [
      "Modelo salvo em: best_xgb_model_10.pkl\n"
     ]
    }
   ],
   "source": [
    "import joblib\n",
    "\n",
    "# Salvar o modelo otimizado em disco\n",
    "model_filename = 'best_xgb_model_10.pkl'\n",
    "joblib.dump(best_model, model_filename)\n",
    "print(f\"Modelo salvo em: {model_filename}\")"
   ]
  },
  {
   "cell_type": "code",
   "execution_count": 25,
   "id": "5d5ddd81-8114-454d-9456-f9064c16f489",
   "metadata": {},
   "outputs": [
    {
     "data": {
      "image/png": "[encoded data removed]",
      "text/plain": [
       "<Figure size 640x480 with 1 Axes>"
      ]
     },
     "metadata": {},
     "output_type": "display_data"
    }
   ],
   "source": [
    "# Gerar e salvar a curva ROC\n",
    "y_pred_proba = best_model.predict_proba(X_test)[:, 1]  # Previsões de probabilidade para a classe positiva\n",
    "fpr, tpr, thresholds = roc_curve(y_test, y_pred_proba)\n",
    "roc_auc = auc(fpr, tpr)\n",
    "plt.plot(fpr, tpr, color='darkorange', lw=2, label=f'Curva ROC (área = {auc(fpr, tpr):.2f})')\n",
    "plt.plot([0, 1], [0, 1], color='navy', lw=2, linestyle='--')\n",
    "plt.xlim([-0.01, 1.0])\n",
    "plt.ylim([0.0, 1.01])\n",
    "plt.xlabel('Taxa de Falsos Positivos')\n",
    "plt.ylabel('Taxa de Verdadeiros Positivos')\n",
    "plt.legend(loc=\"lower right\")\n",
    "plt.savefig('images/roc_curve_amostra.png')\n",
    "plt.show()"
   ]
  },
  {
   "cell_type": "code",
   "execution_count": 26,
   "id": "d656dbce-afb7-4835-aa06-1d37b5268a21",
   "metadata": {},
   "outputs": [
    {
     "data": {
      "image/png": "[encoded data removed]",
      "text/plain": [
       "<Figure size 640x480 with 1 Axes>"
      ]
     },
     "metadata": {},
     "output_type": "display_data"
    }
   ],
   "source": [
    "# Gerar e visualizar a curva Precision-Recall\n",
    "precision_curve, recall_curve, pr_thresholds = precision_recall_curve(y_test, y_pred_proba)\n",
    "plt.plot(recall_curve, precision_curve, color='blue', lw=2)\n",
    "plt.xlabel('Recall')\n",
    "plt.ylabel('Precisão')\n",
    "plt.title(f'Curva Precision-Recall')\n",
    "plt.savefig('images/precision_recall_amostra.png')\n",
    "plt.show()"
   ]
  },
  {
   "cell_type": "code",
   "execution_count": 27,
   "id": "328d5124-2e09-4302-a398-20ea8032f2a0",
   "metadata": {},
   "outputs": [
    {
     "name": "stdout",
     "output_type": "stream",
     "text": [
      "objective: binary:logistic\n",
      "base_score: None\n",
      "booster: None\n",
      "callbacks: None\n",
      "colsample_bylevel: None\n",
      "colsample_bynode: None\n",
      "colsample_bytree: None\n",
      "device: None\n",
      "early_stopping_rounds: None\n",
      "enable_categorical: False\n",
      "eval_metric: auc\n",
      "feature_types: None\n",
      "gamma: None\n",
      "grow_policy: None\n",
      "importance_type: None\n",
      "interaction_constraints: None\n",
      "learning_rate: 0.011052789103875535\n",
      "max_bin: None\n",
      "max_cat_threshold: None\n",
      "max_cat_to_onehot: None\n",
      "max_delta_step: None\n",
      "max_depth: 17\n",
      "max_leaves: None\n",
      "min_child_weight: None\n",
      "missing: -1\n",
      "monotone_constraints: None\n",
      "multi_strategy: None\n",
      "n_estimators: 1508\n",
      "n_jobs: None\n",
      "num_parallel_tree: None\n",
      "random_state: 42\n",
      "reg_alpha: None\n",
      "reg_lambda: None\n",
      "sampling_method: None\n",
      "scale_pos_weight: None\n",
      "subsample: 0.40364340629123596\n",
      "tree_method: None\n",
      "validate_parameters: None\n",
      "verbosity: None\n"
     ]
    }
   ],
   "source": [
    "params = best_model.get_params()\n",
    "\n",
    "# Para imprimir todos os parâmetros\n",
    "for param, value in params.items():\n",
    "    print(f\"{param}: {value}\")"
   ]
  },
  {
   "cell_type": "code",
   "execution_count": null,
   "id": "5c622316-942e-4bab-abb3-7b9b84acb078",
   "metadata": {},
   "outputs": [],
   "source": []
  }
 ],
 "metadata": {
  "kernelspec": {
   "display_name": "Python 3 (ipykernel)",
   "language": "python",
   "name": "python3"
  },
  "language_info": {
   "codemirror_mode": {
    "name": "ipython",
    "version": 3
   },
   "file_extension": ".py",
   "mimetype": "text/x-python",
   "name": "python",
   "nbconvert_exporter": "python",
   "pygments_lexer": "ipython3",
   "version": "3.12.4"
  }
 },
 "nbformat": 4,
 "nbformat_minor": 5
}
