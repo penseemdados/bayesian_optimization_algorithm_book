{
 "cells": [
  {
   "cell_type": "markdown",
   "id": "d6e1aa4a-3246-45b9-9296-ae9fca929482",
   "metadata": {},
   "source": [
    "# Modelo 1 - IEEE Credit Fraud vencedor Kaggle"
   ]
  },
  {
   "cell_type": "code",
   "execution_count": 1,
   "id": "b8c65862-8614-4bb1-9db6-8a2ae94fa829",
   "metadata": {},
   "outputs": [],
   "source": [
    "import numpy as np, pandas as pd, os, gc\n",
    "import matplotlib.pyplot as plt\n",
    "import seaborn as sns\n",
    "import xgboost as xgb\n",
    "from sklearn.model_selection import GroupKFold\n",
    "from sklearn.metrics import (confusion_matrix, accuracy_score, precision_score, recall_score, \n",
    "                             f1_score, roc_curve, auc, precision_recall_curve, roc_auc_score\n",
    "from sklearn.model_selection import train_test_split"
   ]
  },
  {
   "cell_type": "markdown",
   "id": "8be63c30-63fc-47cc-83dd-ee5d18474099",
   "metadata": {},
   "source": [
    "### Carregar os dados de transações e identidade\n",
    "### Excluímos as 219 colunas V que foram consideradas redundantes pela análise de correlação"
   ]
  },
  {
   "cell_type": "code",
   "execution_count": 2,
   "id": "03b405f9-fb12-4a13-bf9f-cf8fec8dc439",
   "metadata": {},
   "outputs": [],
   "source": [
    "# COLUMNS WITH STRINGS\n",
    "str_type = ['ProductCD', 'card4', 'card6', 'P_emaildomain', 'R_emaildomain','M1', 'M2', 'M3', 'M4','M5',\n",
    "            'M6', 'M7', 'M8', 'M9', 'id_12', 'id_15', 'id_16', 'id_23', 'id_27', 'id_28', 'id_29', 'id_30', \n",
    "            'id_31', 'id_33', 'id_34', 'id_35', 'id_36', 'id_37', 'id_38', 'DeviceType', 'DeviceInfo']\n",
    "str_type += ['id-12', 'id-15', 'id-16', 'id-23', 'id-27', 'id-28', 'id-29', 'id-30', \n",
    "            'id-31', 'id-33', 'id-34', 'id-35', 'id-36', 'id-37', 'id-38']\n",
    "\n",
    "# FIRST 53 COLUMNS\n",
    "cols = ['TransactionID', 'TransactionDT', 'TransactionAmt',\n",
    "       'ProductCD', 'card1', 'card2', 'card3', 'card4', 'card5', 'card6',\n",
    "       'addr1', 'addr2', 'dist1', 'dist2', 'P_emaildomain', 'R_emaildomain',\n",
    "       'C1', 'C2', 'C3', 'C4', 'C5', 'C6', 'C7', 'C8', 'C9', 'C10', 'C11',\n",
    "       'C12', 'C13', 'C14', 'D1', 'D2', 'D3', 'D4', 'D5', 'D6', 'D7', 'D8',\n",
    "       'D9', 'D10', 'D11', 'D12', 'D13', 'D14', 'D15', 'M1', 'M2', 'M3', 'M4',\n",
    "       'M5', 'M6', 'M7', 'M8', 'M9']\n",
    "\n",
    "# V COLUMNS TO LOAD DECIDED BY CORRELATION EDA\n",
    "# https://www.kaggle.com/cdeotte/eda-for-columns-v-and-id\n",
    "v =  [1, 3, 4, 6, 8, 11]\n",
    "v += [13, 14, 17, 20, 23, 26, 27, 30]\n",
    "v += [36, 37, 40, 41, 44, 47, 48]\n",
    "v += [54, 56, 59, 62, 65, 67, 68, 70]\n",
    "v += [76, 78, 80, 82, 86, 88, 89, 91]\n",
    "\n",
    "#v += [96, 98, 99, 104] #relates to groups, no NAN \n",
    "v += [107, 108, 111, 115, 117, 120, 121, 123] # maybe group, no NAN\n",
    "v += [124, 127, 129, 130, 136] # relates to groups, no NAN\n",
    "\n",
    "# LOTS OF NAN BELOW\n",
    "v += [138, 139, 142, 147, 156, 162] #b1\n",
    "v += [165, 160, 166] #b1\n",
    "v += [178, 176, 173, 182] #b2\n",
    "v += [187, 203, 205, 207, 215] #b2\n",
    "v += [169, 171, 175, 180, 185, 188, 198, 210, 209] #b2\n",
    "v += [218, 223, 224, 226, 228, 229, 235] #b3\n",
    "v += [240, 258, 257, 253, 252, 260, 261] #b3\n",
    "v += [264, 266, 267, 274, 277] #b3\n",
    "v += [220, 221, 234, 238, 250, 271] #b3\n",
    "\n",
    "v += [294, 284, 285, 286, 291, 297] # relates to grous, no NAN\n",
    "v += [303, 305, 307, 309, 310, 320] # relates to groups, no NAN\n",
    "v += [281, 283, 289, 296, 301, 314] # relates to groups, no NAN\n",
    "#v += [332, 325, 335, 338] # b4 lots NAN\n",
    "\n",
    "cols += ['V'+str(x) for x in v]\n",
    "dtypes = {}\n",
    "for c in cols+['id_0'+str(x) for x in range(1,10)]+['id_'+str(x) for x in range(10,34)]+\\\n",
    "    ['id-0'+str(x) for x in range(1,10)]+['id-'+str(x) for x in range(10,34)]:\n",
    "        dtypes[c] = 'float32'\n",
    "for c in str_type: dtypes[c] = 'category'"
   ]
  },
  {
   "cell_type": "code",
   "execution_count": 3,
   "id": "a13addbc-d590-4189-9136-274591806458",
   "metadata": {},
   "outputs": [
    {
     "name": "stdout",
     "output_type": "stream",
     "text": [
      "Formato do dataset de treino: (590540, 213)\n",
      "CPU times: user 7.06 s, sys: 1.3 s, total: 8.36 s\n",
      "Wall time: 8.36 s\n"
     ]
    }
   ],
   "source": [
    "%%time\n",
    "# Carregar dataset de transações de treino\n",
    "X_train = pd.read_csv('ieee-fraud-detection/train_transaction.csv', index_col='TransactionID', dtype=dtypes, usecols=cols+['isFraud'])\n",
    "\n",
    "# Carregar dataset de identidade de treino\n",
    "train_id = pd.read_csv('ieee-fraud-detection/train_identity.csv', index_col='TransactionID', dtype=dtypes)\n",
    "\n",
    "# Combinar transações e identidade no dataset de treino\n",
    "X_train = X_train.merge(train_id, how='left', left_index=True, right_index=True)\n",
    "\n",
    "# Separar a variável alvo (isFraud)\n",
    "y_train = X_train['isFraud'].copy()\n",
    "del train_id, X_train['isFraud']\n",
    "gc.collect()\n",
    "\n",
    "# Verificar o formato dos dados de treino\n",
    "print('Formato do dataset de treino:', X_train.shape)"
   ]
  },
  {
   "cell_type": "markdown",
   "id": "675aba28-0aca-4810-b5ff-d1c93d5b30ad",
   "metadata": {},
   "source": [
    "## O dataset de treinamento original, rotulado, foi dividido em conjuntos de reino e teste."
   ]
  },
  {
   "cell_type": "code",
   "execution_count": 4,
   "id": "6ff4e0e2-c062-41ce-b98a-4f5f144ee8b7",
   "metadata": {},
   "outputs": [
    {
     "name": "stdout",
     "output_type": "stream",
     "text": [
      "Novo shape de X_train: (413378, 213)\n",
      "Novo shape de X_test: (177162, 213)\n"
     ]
    }
   ],
   "source": [
    "# Dividir o dataset em treino e teste (70% treino e 30% teste)\n",
    "X_train, X_test, y_train, y_test = train_test_split(X_train, y_train, test_size=0.3, random_state=42, stratify=y_train)\n",
    "\n",
    "# Exibir a nova forma dos dados\n",
    "print('Novo shape de X_train:', X_train.shape)\n",
    "print('Novo shape de X_test:', X_test.shape)"
   ]
  },
  {
   "cell_type": "markdown",
   "id": "fefeeee9-e268-4247-a71e-d8214df4bcce",
   "metadata": {},
   "source": [
    "## Normalizar as Colunas D\n",
    "As colunas D representam \"deltas de tempo\" a partir de algum ponto no passado. Vamos transformar essas colunas em seu ponto no passado, para evitar que elas continuem aumentando com o tempo. A fórmula utilizada será: `D15n = Transaction_Day - D15` e `Transaction_Day = TransactionDT / (24*60*60)`. Após essa transformação, multiplicaremos esse valor por -1."
   ]
  },
  {
   "cell_type": "code",
   "execution_count": 5,
   "id": "77d9794a-5af2-4e89-9f0d-7ca15b3c452c",
   "metadata": {},
   "outputs": [],
   "source": [
    "# NORMALIZE D COLUMNS\n",
    "for i in range(1,16):\n",
    "    if i in [1,2,3,5,9]: continue\n",
    "    X_train['D'+str(i)] =  X_train['D'+str(i)] - X_train.TransactionDT/np.float32(24*60*60)\n",
    "    X_test['D'+str(i)] = X_test['D'+str(i)] - X_test.TransactionDT/np.float32(24*60*60) "
   ]
  },
  {
   "cell_type": "code",
   "execution_count": 6,
   "id": "eeb0acdf-df56-4414-ada7-b27cc97376bb",
   "metadata": {},
   "outputs": [
    {
     "name": "stdout",
     "output_type": "stream",
     "text": [
      "CPU times: user 839 ms, sys: 56 ms, total: 895 ms\n",
      "Wall time: 894 ms\n"
     ]
    }
   ],
   "source": [
    "%%time\n",
    "# LABEL ENCODE AND MEMORY REDUCE\n",
    "for i,f in enumerate(X_train.columns):\n",
    "    # FACTORIZE CATEGORICAL VARIABLES\n",
    "    if (str(X_train[f].dtype)=='category')|(X_train[f].dtype=='object'): \n",
    "        df_comb = pd.concat([X_train[f],X_test[f]],axis=0)\n",
    "        df_comb,_ = df_comb.factorize(sort=True)\n",
    "        if df_comb.max()>32000: print(f,'needs int32')\n",
    "        X_train[f] = df_comb[:len(X_train)].astype('int16')\n",
    "        X_test[f] = df_comb[len(X_train):].astype('int16')\n",
    "    # SHIFT ALL NUMERICS POSITIVE. SET NAN to -1\n",
    "    elif f not in ['TransactionAmt','TransactionDT']:\n",
    "        mn = np.min((X_train[f].min(),X_test[f].min()))\n",
    "        X_train[f] -= np.float32(mn)\n",
    "        X_test[f] -= np.float32(mn)\n",
    "        X_train[f] = X_train[f].fillna(-1)\n",
    "        X_test[f] = X_test[f].fillna(-1)"
   ]
  },
  {
   "cell_type": "markdown",
   "id": "074a34c1-37be-41e9-905b-a1ddb2b4e991",
   "metadata": {},
   "source": [
    "## Funções de Codificação\n",
    "Abaixo estão 5 funções de codificação. (1) `encode_FE` faz a codificação por frequência, onde combina os dados de treino e teste antes de codificar. (2) `encode_LE` faz a codificação de rótulos para variáveis categóricas. (3) `encode_AG` cria variáveis agregadas, como média e desvio padrão agregados. (4) `encode_CB` combina duas colunas. (5) `encode_AG2` cria variáveis agregadas que contam quantos valores únicos de uma característica estão presentes em um grupo. Para mais explicações sobre *feature engineering*, veja a discussão [aqui][1].\n",
    "\n",
    "**Observação**: Ajustei as funções para evitar os *warnings* de desfragmentação de *DataFrames* no `Pandas`, garantindo que as operações de codificação e agregação sejam realizadas de forma eficiente e sem gerar alertas desnecessários.\n",
    "\n",
    "[1]: https://www.kaggle.com/c/ieee-fraud-detection/discussion/108575#latest-641841"
   ]
  },
  {
   "cell_type": "code",
   "execution_count": 7,
   "id": "075f7f4e-2e92-4fef-ae54-505ca3461e43",
   "metadata": {},
   "outputs": [],
   "source": [
    "# Função ajustada para adicionar novas colunas preservando o índice\n",
    "def add_new_columns(df, new_cols_dict):\n",
    "    new_cols_df = pd.DataFrame(new_cols_dict, index=df.index)\n",
    "    df = pd.concat([df, new_cols_df], axis=1)\n",
    "    return df\n",
    "\n",
    "# FUNÇÃO AJUSTADA PARA FREQUENCY ENCODE\n",
    "def encode_FE(df1, df2, cols):\n",
    "    df_combined = pd.concat([df1[cols], df2[cols]])\n",
    "    encodings = {}\n",
    "    for col in cols:\n",
    "        vc = df_combined[col].value_counts(dropna=True, normalize=True).to_dict()\n",
    "        vc[-1] = -1\n",
    "        encodings[col] = vc\n",
    "    new_cols_train = {}\n",
    "    new_cols_test = {}\n",
    "    for col in cols:\n",
    "        nm = col + '_FE'\n",
    "        new_cols_train[nm] = df1[col].map(encodings[col]).astype('float32')\n",
    "        new_cols_test[nm] = df2[col].map(encodings[col]).astype('float32')\n",
    "        print(nm, ', ', end='')\n",
    "    df1 = add_new_columns(df1, new_cols_train)\n",
    "    df2 = add_new_columns(df2, new_cols_test)\n",
    "    return df1, df2\n",
    "\n",
    "# FUNÇÃO AJUSTADA PARA LABEL ENCODE\n",
    "def encode_LE(col, train, test, verbose=True):\n",
    "    df_combined = pd.concat([train[col], test[col]], axis=0)\n",
    "    df_combined, _ = df_combined.factorize(sort=True)\n",
    "    nm = col\n",
    "    dtype = 'int32' if df_combined.max() > 32000 else 'int16'\n",
    "    train[nm] = df_combined[:len(train)].astype(dtype)\n",
    "    test[nm] = df_combined[len(train):].astype(dtype)\n",
    "    if verbose:\n",
    "        print(nm, ', ', end='')\n",
    "    gc.collect()\n",
    "\n",
    "# FUNÇÃO AJUSTADA PARA GROUP AGGREGATION MEAN E STD\n",
    "def encode_AG(main_columns, uids, aggregations=['mean'], train_df=None, test_df=None, fillna=True, usena=False):\n",
    "    for main_column in main_columns:\n",
    "        for col in uids:\n",
    "            temp_df = pd.concat([train_df[[col, main_column]], test_df[[col, main_column]]])\n",
    "            if usena:\n",
    "                temp_df[main_column] = temp_df[main_column].replace(-1, np.nan)\n",
    "            agg_df = temp_df.groupby([col])[main_column].agg(aggregations)\n",
    "            agg_df = agg_df.reset_index()\n",
    "            for agg_type in aggregations:\n",
    "                new_col_name = f'{main_column}_{col}_{agg_type}'\n",
    "                agg_series = agg_df.set_index(col)[agg_type]\n",
    "                train_df[new_col_name] = train_df[col].map(agg_series).astype('float32')\n",
    "                test_df[new_col_name] = test_df[col].map(agg_series).astype('float32')\n",
    "                if fillna:\n",
    "                    train_df[new_col_name] = train_df[new_col_name].fillna(-1)\n",
    "                    test_df[new_col_name] = test_df[new_col_name].fillna(-1)\n",
    "                print(f\"'{new_col_name}'\", ', ', end='')\n",
    "\n",
    "# FUNÇÃO AJUSTADA PARA COMBINAR FEATURES\n",
    "def encode_CB(col1, col2, df1, df2):\n",
    "    nm = col1 + '_' + col2\n",
    "    new_cols_train = {nm: df1[col1].astype(str) + '_' + df1[col2].astype(str)}\n",
    "    new_cols_test = {nm: df2[col1].astype(str) + '_' + df2[col2].astype(str)}\n",
    "    df1 = add_new_columns(df1, new_cols_train)\n",
    "    df2 = add_new_columns(df2, new_cols_test)\n",
    "    encode_LE(nm, df1, df2, verbose=False)\n",
    "    print(nm, ', ', end='')\n",
    "    return df1, df2\n",
    "\n",
    "# FUNÇÃO AJUSTADA PARA GROUP AGGREGATION NUNIQUE\n",
    "def encode_AG2(main_columns, uids, train_df, test_df):\n",
    "    for main_column in main_columns:\n",
    "        for col in uids:\n",
    "            temp_df = pd.concat([train_df[[col, main_column]], test_df[[col, main_column]]])\n",
    "            nunique_series = temp_df.groupby(col)[main_column].nunique()\n",
    "            new_col_name = f'{col}_{main_column}_ct'\n",
    "            train_df[new_col_name] = train_df[col].map(nunique_series).astype('float32')\n",
    "            test_df[new_col_name] = test_df[col].map(nunique_series).astype('float32')\n",
    "            print(new_col_name + ', ', end='')"
   ]
  },
  {
   "cell_type": "markdown",
   "id": "312a27d2-9df9-46ad-a3c4-fc6ab0da941f",
   "metadata": {},
   "source": [
    "## Engenharia de *Features*\n",
    "A equipe vencedora criou novas *features*, escolhendo cada uma delas porque aumentavam a validação local. O procedimento para a criação de *features* utilizado pela equipe foi o seguinte: primeiro, eles pensavam em uma ideia e criavam uma nova *feature*. Em seguida, adicionavam essa *feature* ao modelo e avaliavam se o **AUC** da validação local aumentava ou diminuía. Se o AUC aumentasse, mantinham a *feature*; caso contrário, a descartavam."
   ]
  },
  {
   "cell_type": "code",
   "execution_count": 8,
   "id": "d508fd26-7956-403b-83ff-56860e525c8f",
   "metadata": {},
   "outputs": [
    {
     "name": "stdout",
     "output_type": "stream",
     "text": [
      "cents, addr1_FE , card1_FE , card2_FE , card3_FE , P_emaildomain_FE , card1_addr1_FE , card1_addr1_P_emaildomain_FE , 'TransactionAmt_card1_mean' , 'TransactionAmt_card1_std' , 'TransactionAmt_card1_addr1_mean' , 'TransactionAmt_card1_addr1_std' , 'TransactionAmt_card1_addr1_P_emaildomain_mean' , 'TransactionAmt_card1_addr1_P_emaildomain_std' , 'D9_card1_mean' , 'D9_card1_std' , 'D9_card1_addr1_mean' , 'D9_card1_addr1_std' , 'D9_card1_addr1_P_emaildomain_mean' , 'D9_card1_addr1_P_emaildomain_std' , 'D11_card1_mean' , 'D11_card1_std' , 'D11_card1_addr1_mean' , 'D11_card1_addr1_std' , 'D11_card1_addr1_P_emaildomain_mean' , 'D11_card1_addr1_P_emaildomain_std' , \n",
      "Train shape: (413378, 241), Test shape: (177162, 241)\n",
      "CPU times: user 3.25 s, sys: 653 ms, total: 3.9 s\n",
      "Wall time: 3.9 s\n"
     ]
    }
   ],
   "source": [
    "%%time\n",
    "# Defragmentando os DataFrames antes de começar\n",
    "X_train = X_train.copy()\n",
    "X_test = X_test.copy()\n",
    "\n",
    "# Criando a coluna 'cents' e adicionando sem fragmentação\n",
    "new_cols_train = {}\n",
    "new_cols_test = {}\n",
    "new_cols_train['cents'] = (X_train['TransactionAmt'] - np.floor(X_train['TransactionAmt'])).astype('float32')\n",
    "new_cols_test['cents'] = (X_test['TransactionAmt'] - np.floor(X_test['TransactionAmt'])).astype('float32')\n",
    "print('cents, ', end='')\n",
    "\n",
    "X_train = add_new_columns(X_train, new_cols_train)\n",
    "X_test = add_new_columns(X_test, new_cols_test)\n",
    "\n",
    "# FREQUENCY ENCODE: ADDR1, CARD1, CARD2, CARD3, P_EMAILDOMAIN\n",
    "X_train, X_test = encode_FE(X_train, X_test, ['addr1', 'card1', 'card2', 'card3', 'P_emaildomain'])\n",
    "\n",
    "# COMBINAR COLUNAS CARD1+ADDR1, CARD1+ADDR1+P_EMAILDOMAIN\n",
    "new_cols_train = {}\n",
    "new_cols_test = {}\n",
    "new_cols_train['card1_addr1'] = X_train['card1'].astype(str) + '_' + X_train['addr1'].astype(str)\n",
    "new_cols_test['card1_addr1'] = X_test['card1'].astype(str) + '_' + X_test['addr1'].astype(str)\n",
    "\n",
    "new_cols_train['card1_addr1_P_emaildomain'] = new_cols_train['card1_addr1'] + '_' + X_train['P_emaildomain'].astype(str)\n",
    "new_cols_test['card1_addr1_P_emaildomain'] = new_cols_test['card1_addr1'] + '_' + X_test['P_emaildomain'].astype(str)\n",
    "\n",
    "X_train = add_new_columns(X_train, new_cols_train)\n",
    "X_test = add_new_columns(X_test, new_cols_test)\n",
    "\n",
    "# FREQUENCY ENCODE NOVAMENTE\n",
    "X_train, X_test = encode_FE(X_train, X_test, ['card1_addr1', 'card1_addr1_P_emaildomain'])\n",
    "\n",
    "# GROUP AGGREGATE\n",
    "encode_AG(['TransactionAmt', 'D9', 'D11'],\n",
    "          ['card1', 'card1_addr1', 'card1_addr1_P_emaildomain'],\n",
    "          ['mean', 'std'], train_df=X_train, test_df=X_test, usena=True)\n",
    "\n",
    "# Preencher valores faltantes sem usar inplace=True\n",
    "X_train = X_train.fillna(-1)\n",
    "X_test = X_test.fillna(-1)\n",
    "\n",
    "print(f\"\\nTrain shape: {X_train.shape}, Test shape: {X_test.shape}\")"
   ]
  },
  {
   "cell_type": "markdown",
   "id": "14d1e692-3b66-4d8f-861f-37db7573c671",
   "metadata": {},
   "source": [
    "## Seleção de *Features* - Consistência Temporal\n",
    "A equipe vencedora adicionou 28 novas *features* e já havia removido 219 colunas **V** a partir da análise de correlação realizada [aqui][1]. Assim, eles ficaram com 242 *features*. Em seguida, verificaram cada uma dessas 242 *features* quanto à \"consistência temporal\". Foram construídos 242 modelos, onde cada modelo foi treinado com o primeiro mês dos dados de treino e usou apenas uma *feature*. Depois, foram feitas previsões para o último mês dos dados de treino. O objetivo era garantir que tanto o AUC de treino quanto o AUC de validação estivessem acima de AUC = 0.5. Foi descoberto que 19 *features* falharam nesse teste e, por isso, foram removidas. Além disso, a equipe removeu 7 colunas **D**, que estavam, em sua maioria, preenchidas com valores NaN. Outras técnicas de seleção de *features* podem ser encontradas [aqui][2].\n",
    "\n",
    "[1]: https://www.kaggle.com/cdeotte/eda-for-columns-v-and-id\n",
    "[2]: https://www.kaggle.com/c/ieee-fraud-detection/discussion/111308"
   ]
  },
  {
   "cell_type": "code",
   "execution_count": 9,
   "id": "d35c577f-0549-4bd1-8530-6b9fc0ddbaae",
   "metadata": {},
   "outputs": [],
   "source": [
    "cols = list( X_train.columns )\n",
    "cols.remove('TransactionDT')\n",
    "for c in ['D6','D7','D8','D9','D12','D13','D14']:\n",
    "    cols.remove(c)\n",
    "    \n",
    "# FAILED TIME CONSISTENCY TEST\n",
    "for c in ['C3','M5','id_08','id_33']:\n",
    "    cols.remove(c)\n",
    "for c in ['card4','id_07','id_14','id_21','id_30','id_32','id_34']:\n",
    "    cols.remove(c)\n",
    "for c in ['id_'+str(x) for x in range(22,28)]:\n",
    "    cols.remove(c)"
   ]
  },
  {
   "cell_type": "code",
   "execution_count": 10,
   "id": "db311494-2530-4431-a7e3-c8ec14a33d33",
   "metadata": {},
   "outputs": [
    {
     "name": "stdout",
     "output_type": "stream",
     "text": [
      "USANDO AGORA AS SEGUINTES 216 FEATURES.\n"
     ]
    },
    {
     "data": {
      "text/plain": [
       "array(['TransactionAmt', 'ProductCD', 'card1', 'card2', 'card3', 'card5',\n",
       "       'card6', 'addr1', 'addr2', 'dist1', 'dist2', 'P_emaildomain',\n",
       "       'R_emaildomain', 'C1', 'C2', 'C4', 'C5', 'C6', 'C7', 'C8', 'C9',\n",
       "       'C10', 'C11', 'C12', 'C13', 'C14', 'D1', 'D2', 'D3', 'D4', 'D5',\n",
       "       'D10', 'D11', 'D15', 'M1', 'M2', 'M3', 'M4', 'M6', 'M7', 'M8',\n",
       "       'M9', 'V1', 'V3', 'V4', 'V6', 'V8', 'V11', 'V13', 'V14', 'V17',\n",
       "       'V20', 'V23', 'V26', 'V27', 'V30', 'V36', 'V37', 'V40', 'V41',\n",
       "       'V44', 'V47', 'V48', 'V54', 'V56', 'V59', 'V62', 'V65', 'V67',\n",
       "       'V68', 'V70', 'V76', 'V78', 'V80', 'V82', 'V86', 'V88', 'V89',\n",
       "       'V91', 'V107', 'V108', 'V111', 'V115', 'V117', 'V120', 'V121',\n",
       "       'V123', 'V124', 'V127', 'V129', 'V130', 'V136', 'V138', 'V139',\n",
       "       'V142', 'V147', 'V156', 'V160', 'V162', 'V165', 'V166', 'V169',\n",
       "       'V171', 'V173', 'V175', 'V176', 'V178', 'V180', 'V182', 'V185',\n",
       "       'V187', 'V188', 'V198', 'V203', 'V205', 'V207', 'V209', 'V210',\n",
       "       'V215', 'V218', 'V220', 'V221', 'V223', 'V224', 'V226', 'V228',\n",
       "       'V229', 'V234', 'V235', 'V238', 'V240', 'V250', 'V252', 'V253',\n",
       "       'V257', 'V258', 'V260', 'V261', 'V264', 'V266', 'V267', 'V271',\n",
       "       'V274', 'V277', 'V281', 'V283', 'V284', 'V285', 'V286', 'V289',\n",
       "       'V291', 'V294', 'V296', 'V297', 'V301', 'V303', 'V305', 'V307',\n",
       "       'V309', 'V310', 'V314', 'V320', 'id_01', 'id_02', 'id_03', 'id_04',\n",
       "       'id_05', 'id_06', 'id_09', 'id_10', 'id_11', 'id_12', 'id_13',\n",
       "       'id_15', 'id_16', 'id_17', 'id_18', 'id_19', 'id_20', 'id_28',\n",
       "       'id_29', 'id_31', 'id_35', 'id_36', 'id_37', 'id_38', 'DeviceType',\n",
       "       'DeviceInfo', 'cents', 'addr1_FE', 'card1_FE', 'card2_FE',\n",
       "       'card3_FE', 'P_emaildomain_FE', 'card1_addr1',\n",
       "       'card1_addr1_P_emaildomain', 'card1_addr1_FE',\n",
       "       'card1_addr1_P_emaildomain_FE', 'TransactionAmt_card1_mean',\n",
       "       'TransactionAmt_card1_std', 'TransactionAmt_card1_addr1_mean',\n",
       "       'TransactionAmt_card1_addr1_std',\n",
       "       'TransactionAmt_card1_addr1_P_emaildomain_mean',\n",
       "       'TransactionAmt_card1_addr1_P_emaildomain_std', 'D9_card1_mean',\n",
       "       'D9_card1_std', 'D9_card1_addr1_mean', 'D9_card1_addr1_std',\n",
       "       'D9_card1_addr1_P_emaildomain_mean',\n",
       "       'D9_card1_addr1_P_emaildomain_std', 'D11_card1_mean',\n",
       "       'D11_card1_std', 'D11_card1_addr1_mean', 'D11_card1_addr1_std',\n",
       "       'D11_card1_addr1_P_emaildomain_mean',\n",
       "       'D11_card1_addr1_P_emaildomain_std'], dtype='<U45')"
      ]
     },
     "execution_count": 10,
     "metadata": {},
     "output_type": "execute_result"
    }
   ],
   "source": [
    "print('USANDO AGORA AS SEGUINTES', len(cols), 'FEATURES.')\n",
    "np.array(cols)"
   ]
  },
  {
   "cell_type": "markdown",
   "id": "46ab256c-6532-4b55-9b2e-7cb84337ef5e",
   "metadata": {},
   "source": [
    "## Validação Local\n",
    "Para a competição, a equipe vencedora utilizou validação local baseada no tempo. Eles avaliaram as *features* treinando nos primeiros 75% dos dados e prevendo os últimos 25%. Konstantin, um dos membros da equipe, utilizou uma validação local ligeiramente diferente. Ele treinou nos primeiros 4 meses, pulou um mês e previu o último mês. O modelo **XGB** da equipe, com 216 *features*, atingiu AUC = 0.9363 na validação local de Chris e AUC = 0.9241 na validação local de Konstantin. Vale destacar que este é o mesmo AUC que o modelo **LGBM** de Konstantin alcançou sem a técnica \"mágica\" que ele postou [aqui][1] e [aqui][2].\n",
    "\n",
    "[1]: https://www.kaggle.com/kyakovlev/ieee-fe-for-local-test\n",
    "[2]: https://www.kaggle.com/kyakovlev/ieee-lgbm-with-groupkfold-cv"
   ]
  },
  {
   "cell_type": "code",
   "execution_count": 11,
   "id": "3755c589-6b0e-430e-bfe2-c58b8a176fcf",
   "metadata": {},
   "outputs": [],
   "source": [
    "# CHRIS - TREINAR COM 75% DOS DADOS E PREDIZER 25%\n",
    "idxT = X_train.index[:3*len(X_train)//4]\n",
    "idxV = X_train.index[3*len(X_train)//4:]"
   ]
  },
  {
   "cell_type": "code",
   "execution_count": 12,
   "id": "9175661d-8225-4ae6-981a-278480bcbd34",
   "metadata": {},
   "outputs": [
    {
     "name": "stdout",
     "output_type": "stream",
     "text": [
      "XGBoost version: 2.1.1\n",
      "[0]\tvalidation_0-auc:0.82351\n",
      "[50]\tvalidation_0-auc:0.90955\n",
      "[100]\tvalidation_0-auc:0.92491\n",
      "[150]\tvalidation_0-auc:0.93960\n",
      "[200]\tvalidation_0-auc:0.95083\n",
      "[250]\tvalidation_0-auc:0.95737\n",
      "[300]\tvalidation_0-auc:0.96098\n",
      "[350]\tvalidation_0-auc:0.96302\n",
      "[400]\tvalidation_0-auc:0.96455\n",
      "[450]\tvalidation_0-auc:0.96573\n",
      "[500]\tvalidation_0-auc:0.96685\n",
      "[550]\tvalidation_0-auc:0.96730\n",
      "[600]\tvalidation_0-auc:0.96796\n",
      "[650]\tvalidation_0-auc:0.96839\n",
      "[700]\tvalidation_0-auc:0.96889\n",
      "[750]\tvalidation_0-auc:0.96935\n",
      "[800]\tvalidation_0-auc:0.96958\n",
      "[850]\tvalidation_0-auc:0.96970\n",
      "[900]\tvalidation_0-auc:0.96990\n",
      "[950]\tvalidation_0-auc:0.97004\n",
      "[1000]\tvalidation_0-auc:0.97017\n",
      "[1050]\tvalidation_0-auc:0.97040\n",
      "[1100]\tvalidation_0-auc:0.97049\n",
      "[1150]\tvalidation_0-auc:0.97051\n",
      "[1200]\tvalidation_0-auc:0.97049\n",
      "[1250]\tvalidation_0-auc:0.97050\n",
      "[1300]\tvalidation_0-auc:0.97058\n",
      "[1350]\tvalidation_0-auc:0.97054\n",
      "[1400]\tvalidation_0-auc:0.97056\n",
      "[1450]\tvalidation_0-auc:0.97059\n",
      "[1500]\tvalidation_0-auc:0.97060\n",
      "[1550]\tvalidation_0-auc:0.97061\n",
      "[1600]\tvalidation_0-auc:0.97053\n",
      "[1650]\tvalidation_0-auc:0.97047\n",
      "[1700]\tvalidation_0-auc:0.97043\n",
      "[1750]\tvalidation_0-auc:0.97044\n",
      "[1800]\tvalidation_0-auc:0.97045\n",
      "[1850]\tvalidation_0-auc:0.97043\n",
      "[1900]\tvalidation_0-auc:0.97040\n",
      "[1950]\tvalidation_0-auc:0.97038\n",
      "[1999]\tvalidation_0-auc:0.97038\n",
      "CPU times: user 4h 7min 12s, sys: 1min 16s, total: 4h 8min 29s\n",
      "Wall time: 41min 21s\n"
     ]
    }
   ],
   "source": [
    "%%time\n",
    "\n",
    "print(\"XGBoost version:\", xgb.__version__)\n",
    "\n",
    "# Verifique e converta as colunas para o tipo 'category'\n",
    "categorical_cols = ['card1_addr1', 'card1_addr1_P_emaildomain']\n",
    "\n",
    "for col in categorical_cols:\n",
    "    X_train[col] = X_train[col].astype('category')\n",
    "    X_test[col] = X_test[col].astype('category')\n",
    "\n",
    "# Converta as categorias para códigos numéricos\n",
    "for col in categorical_cols:\n",
    "    X_train[col] = X_train[col].cat.codes\n",
    "    X_test[col] = X_test[col].cat.codes\n",
    "\n",
    "clf = xgb.XGBClassifier( \n",
    "    n_estimators=2000,\n",
    "    max_depth=12, \n",
    "    learning_rate=0.02, \n",
    "    subsample=0.8,\n",
    "    colsample_bytree=0.4, \n",
    "    missing=-1, \n",
    "    eval_metric='auc',\n",
    "    # USE CPU\n",
    "    #nthread=4,\n",
    "    #tree_method='hist' \n",
    "    # USE GPU\n",
    "    tree_method='hist' \n",
    ")\n",
    "\n",
    "h = clf.fit(\n",
    "    X_train.loc[idxT,cols], \n",
    "    y_train[idxT], \n",
    "    eval_set=[(X_train.loc[idxV,cols],y_train[idxV])],\n",
    "    verbose=50,\n",
    "    )"
   ]
  },
  {
   "cell_type": "code",
   "execution_count": 19,
   "id": "01e78117-22da-4a2c-98fe-38bd4d0fac78",
   "metadata": {},
   "outputs": [
    {
     "name": "stdout",
     "output_type": "stream",
     "text": [
      "\n",
      "Matriz de Confusão Ajustada:\n",
      "[[170810    153]\n",
      " [  2253   3946]]\n",
      "\n",
      "Precisão: 0.9627\n",
      "Recall: 0.6366\n",
      "F1-Score: 0.7664\n"
     ]
    },
    {
     "data": {
      "image/png": "[encoded data removed]",
      "text/plain": [
       "<Figure size 800x600 with 1 Axes>"
      ]
     },
     "metadata": {},
     "output_type": "display_data"
    },
    {
     "data": {
      "image/png": "[encoded data removed]",
      "text/plain": [
       "<Figure size 800x600 with 1 Axes>"
      ]
     },
     "metadata": {},
     "output_type": "display_data"
    }
   ],
   "source": [
    "# Obter as probabilidades de previsão para o conjunto de validação\n",
    "y_pred_prob = clf.predict_proba(X_train.loc[idxV, cols])[:, 1]  # Probabilidade da classe positiva (fraude)\n",
    "\n",
    "# Curva ROC - Comparar as probabilidades preditas com os valores reais\n",
    "fpr, tpr, thresholds = roc_curve(y_train[idxV], y_pred_prob)\n",
    "roc_auc = auc(fpr, tpr)\n",
    "\n",
    "# Previsões\n",
    "y_pred = clf.predict(X_test[cols])  # Certifique-se de que 'X_test' corresponde ao conjunto de teste correto\n",
    "\n",
    "# Cálculo das métricas\n",
    "precision = precision_score(y_test, y_pred)\n",
    "recall = recall_score(y_test, y_pred)\n",
    "f1 = f1_score(y_test, y_pred)\n",
    "cm = confusion_matrix(y_test, y_pred)\n",
    "\n",
    "# Exibição da matriz de confusão e das métricas\n",
    "print(\"\\nMatriz de Confusão Ajustada:\")\n",
    "print(cm)\n",
    "print(f\"\\nPrecisão: {precision:.4f}\")\n",
    "print(f\"Recall: {recall:.4f}\")\n",
    "print(f\"F1-Score: {f1:.4f}\")\n",
    "\n",
    "# Curva ROC\n",
    "fpr, tpr, thresholds = roc_curve(y_train[idxV], y_pred_prob)\n",
    "roc_auc = auc(fpr, tpr)\n",
    "plt.figure(figsize=(8, 6))\n",
    "plt.plot(fpr, tpr, color='blue', label=f'ROC Curve (AUC = {roc_auc:.2f})')\n",
    "plt.plot([0, 1], [0, 1], color='gray', linestyle='--')\n",
    "plt.title('Curva ROC')\n",
    "plt.xlabel('Taxa de Falsos Positivos (FPR)')\n",
    "plt.ylabel('Taxa de Verdadeiros Positivos (TPR)')\n",
    "plt.legend(loc='lower right')\n",
    "plt.savefig('images/curva_roc_model_1.png')\n",
    "plt.show()\n",
    "\n",
    "# Curva Precision-Recall\n",
    "precision, recall, _ = precision_recall_curve(y_train[idxV], y_pred_prob)\n",
    "plt.figure(figsize=(8, 6))\n",
    "plt.plot(recall, precision, color='green', label='Curva Precision-Recall')\n",
    "plt.title('Curva Precision-Recall')\n",
    "plt.xlabel('Recall')\n",
    "plt.ylabel('Precision')\n",
    "plt.legend(loc='lower left')\n",
    "plt.savefig('images/precision-recall_curve_model_1.png')\n",
    "plt.show()"
   ]
  },
  {
   "cell_type": "code",
   "execution_count": null,
   "id": "fae04c14-f3cb-4ae8-bc0e-fef624cc1060",
   "metadata": {},
   "outputs": [],
   "source": []
  }
 ],
 "metadata": {
  "kernelspec": {
   "display_name": "Python 3 (ipykernel)",
   "language": "python",
   "name": "python3"
  },
  "language_info": {
   "codemirror_mode": {
    "name": "ipython",
    "version": 3
   },
   "file_extension": ".py",
   "mimetype": "text/x-python",
   "name": "python",
   "nbconvert_exporter": "python",
   "pygments_lexer": "ipython3",
   "version": "3.12.4"
  }
 },
 "nbformat": 4,
 "nbformat_minor": 5
}
